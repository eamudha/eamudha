{
 "cells": [
  {
   "cell_type": "code",
   "execution_count": 1,
   "id": "353b1aaf",
   "metadata": {},
   "outputs": [
    {
     "name": "stdout",
     "output_type": "stream",
     "text": [
      "Enter the Number:40\n"
     ]
    }
   ],
   "source": [
    "num1=input(\"Enter the Number:\")"
   ]
  },
  {
   "cell_type": "code",
   "execution_count": 2,
   "id": "ba413400",
   "metadata": {},
   "outputs": [
    {
     "name": "stdout",
     "output_type": "stream",
     "text": [
      "Enter the Number:60\n"
     ]
    }
   ],
   "source": [
    "num2=input(\"Enter the Number:\")"
   ]
  },
  {
   "cell_type": "code",
   "execution_count": 3,
   "id": "ff13280c",
   "metadata": {},
   "outputs": [
    {
     "name": "stdout",
     "output_type": "stream",
     "text": [
      "4060\n"
     ]
    }
   ],
   "source": [
    "add=num1+num2\n",
    "print(add)"
   ]
  },
  {
   "cell_type": "code",
   "execution_count": 4,
   "id": "eac63478",
   "metadata": {},
   "outputs": [
    {
     "name": "stdout",
     "output_type": "stream",
     "text": [
      "Enter the Number40\n",
      "Enter the Number60\n",
      "100\n"
     ]
    }
   ],
   "source": [
    "num1=int(input(\"Enter the Number\"))\n",
    "num2=int(input(\"Enter the Number\"))\n",
    "add=num1+num2\n",
    "print(add)"
   ]
  },
  {
   "cell_type": "code",
   "execution_count": null,
   "id": "da62b605",
   "metadata": {},
   "outputs": [],
   "source": []
  }
 ],
 "metadata": {
  "kernelspec": {
   "display_name": "Python 3 (ipykernel)",
   "language": "python",
   "name": "python3"
  },
  "language_info": {
   "codemirror_mode": {
    "name": "ipython",
    "version": 3
   },
   "file_extension": ".py",
   "mimetype": "text/x-python",
   "name": "python",
   "nbconvert_exporter": "python",
   "pygments_lexer": "ipython3",
   "version": "3.11.5"
  }
 },
 "nbformat": 4,
 "nbformat_minor": 5
}
