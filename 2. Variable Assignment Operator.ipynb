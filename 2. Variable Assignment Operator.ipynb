{
 "cells": [
  {
   "cell_type": "code",
   "execution_count": 1,
   "id": "99c95cae",
   "metadata": {},
   "outputs": [
    {
     "name": "stdout",
     "output_type": "stream",
     "text": [
      "add\n",
      "30\n"
     ]
    }
   ],
   "source": [
    "num1=10\n",
    "num2=20\n",
    "add=num1+num2\n",
    "print(\"add\")\n",
    "print(add)"
   ]
  },
  {
   "cell_type": "code",
   "execution_count": 2,
   "id": "3e7ca32e",
   "metadata": {},
   "outputs": [
    {
     "name": "stdout",
     "output_type": "stream",
     "text": [
      "sub\n",
      "-10\n"
     ]
    }
   ],
   "source": [
    "num1=20\n",
    "num2=30\n",
    "sub=num1-num2\n",
    "print(\"sub\")\n",
    "print(sub)"
   ]
  },
  {
   "cell_type": "code",
   "execution_count": 4,
   "id": "99b763fb",
   "metadata": {},
   "outputs": [
    {
     "name": "stdout",
     "output_type": "stream",
     "text": [
      "mul\n",
      "600\n"
     ]
    }
   ],
   "source": [
    "num1=20\n",
    "num2=30\n",
    "mul=num1*num2\n",
    "print(\"mul\")\n",
    "print(mul)"
   ]
  },
  {
   "cell_type": "code",
   "execution_count": 5,
   "id": "5befac25",
   "metadata": {},
   "outputs": [
    {
     "name": "stdout",
     "output_type": "stream",
     "text": [
      "The Addition of two numbers\n",
      "The number is: 10\n",
      "The number is: 30\n",
      "The Answer is: 40\n"
     ]
    }
   ],
   "source": [
    "print(\"The Addition of two numbers\")\n",
    "num1=10\n",
    "num2=30\n",
    "add=num1+num2\n",
    "print(\"The number is:\",num1)\n",
    "print(\"The number is:\",num2)\n",
    "print(\"The Answer is:\",add)"
   ]
  },
  {
   "cell_type": "code",
   "execution_count": 8,
   "id": "b82239eb",
   "metadata": {},
   "outputs": [
    {
     "name": "stdout",
     "output_type": "stream",
     "text": [
      "Enter the Number:40\n"
     ]
    }
   ],
   "source": [
    "num1=input(\"Enter the Number:\")"
   ]
  },
  {
   "cell_type": "code",
   "execution_count": 9,
   "id": "5b61ab26",
   "metadata": {},
   "outputs": [
    {
     "name": "stdout",
     "output_type": "stream",
     "text": [
      "Enter the Number:70\n"
     ]
    }
   ],
   "source": [
    "num2=input(\"Enter the Number:\")"
   ]
  },
  {
   "cell_type": "code",
   "execution_count": null,
   "id": "e1f54860",
   "metadata": {},
   "outputs": [],
   "source": [
    "add=num1+num2"
   ]
  },
  {
   "cell_type": "code",
   "execution_count": 10,
   "id": "8123774b",
   "metadata": {},
   "outputs": [
    {
     "name": "stdout",
     "output_type": "stream",
     "text": [
      "40\n"
     ]
    }
   ],
   "source": [
    "print(add)"
   ]
  },
  {
   "cell_type": "code",
   "execution_count": null,
   "id": "b51fdfb2",
   "metadata": {},
   "outputs": [],
   "source": []
  }
 ],
 "metadata": {
  "kernelspec": {
   "display_name": "Python 3 (ipykernel)",
   "language": "python",
   "name": "python3"
  },
  "language_info": {
   "codemirror_mode": {
    "name": "ipython",
    "version": 3
   },
   "file_extension": ".py",
   "mimetype": "text/x-python",
   "name": "python",
   "nbconvert_exporter": "python",
   "pygments_lexer": "ipython3",
   "version": "3.11.5"
  }
 },
 "nbformat": 4,
 "nbformat_minor": 5
}
